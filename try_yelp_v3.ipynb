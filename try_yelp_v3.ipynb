{
 "cells": [
  {
   "cell_type": "markdown",
   "metadata": {},
   "source": [
    "## How to use Yelp API v3 to get Business Data\n",
    "\n",
    "* In my code, I majorly created:\n",
    "  * How to search for business using its name, address1, city, state and country, and get business id\n",
    "  * How to get more business details with business id\n",
    "  * How to get reviews for the business\n",
    "    * But Yelp give you at most 3 reviews, per business\n",
    "\n",
    "* First of all, you have to create an app so that you can get API key\n",
    "  * https://www.yelp.com/developers/documentation/v3/authentication\n",
    "  * Need to use a browser that won't block javascript, otherwise you may not get API key\n",
    "  * Once you got the API key, Yelp will also tell you your daily limitation\n",
    "* URLs for getting Yelp business data: https://www.yelp.com/developers/documentation/v3/get_started"
   ]
  },
  {
   "cell_type": "code",
   "execution_count": 2,
   "metadata": {},
   "outputs": [],
   "source": [
    "import requests\n",
    "from urllib import quote\n",
    "from pprint import pprint\n",
    "\n",
    "API_HOST = 'https://api.yelp.com'\n",
    "BUSINESS_PATH = '/v3/businesses/'\n",
    "BUSINESS_MATCH_PATH = '/v3/businesses/matches'"
   ]
  },
  {
   "cell_type": "code",
   "execution_count": 3,
   "metadata": {
    "collapsed": true
   },
   "outputs": [],
   "source": [
    "api_key = '[YOU API KEY]'"
   ]
  },
  {
   "cell_type": "code",
   "execution_count": 4,
   "metadata": {
    "collapsed": true
   },
   "outputs": [],
   "source": [
    "def request(host, path, api_key, url_params=None):\n",
    "    url_params = url_params or {}\n",
    "    url = '{0}{1}'.format(host, quote(path.encode('utf8')))\n",
    "    headers = {\n",
    "        'Authorization': 'Bearer %s' % api_key,\n",
    "    }\n",
    "\n",
    "    print(u'Querying {0} ...'.format(url))\n",
    "\n",
    "    response = requests.request('GET', url, headers=headers, params=url_params)\n",
    "\n",
    "    return response.json()\n",
    "\n",
    "def get_business(api_key, business_id):\n",
    "    \"\"\"\n",
    "    Get business info through business id\n",
    "    \"\"\"\n",
    "    business_path = BUSINESS_PATH + business_id\n",
    "\n",
    "    return request(API_HOST, business_path, api_key)\n",
    "\n",
    "def get_business_reviews(api_key, business_id):\n",
    "    \"\"\"\n",
    "    Get business info through business id\n",
    "    \"\"\"\n",
    "    business_path = BUSINESS_PATH + business_id + '/reviews'\n",
    "\n",
    "    return request(API_HOST, business_path, api_key)\n",
    "\n",
    "def match_business(api_key, params):\n",
    "    \"\"\"\n",
    "    Get business info through business name\n",
    "    \"\"\"\n",
    "    business_path = BUSINESS_MATCH_PATH\n",
    "\n",
    "    return request(API_HOST, business_path, api_key, params)"
   ]
  },
  {
   "cell_type": "markdown",
   "metadata": {},
   "source": [
    "### match a business through REQUIRED parameters\n",
    "\n",
    "* name\n",
    "* address1\n",
    "* city\n",
    "* state\n",
    "* country"
   ]
  },
  {
   "cell_type": "code",
   "execution_count": 5,
   "metadata": {},
   "outputs": [
    {
     "name": "stdout",
     "output_type": "stream",
     "text": [
      "Querying https://api.yelp.com/v3/businesses/matches ...\n"
     ]
    },
    {
     "data": {
      "text/plain": [
       "{u'businesses': [{u'alias': u'bottega-louie-los-angeles',\n",
       "   u'coordinates': {u'latitude': 34.0469300995766,\n",
       "    u'longitude': -118.256601457672},\n",
       "   u'display_phone': u'(213) 802-1470',\n",
       "   u'id': u'TkFEKhsCixPWlShULKvMdQ',\n",
       "   u'location': {u'address1': u'700 S Grand Ave',\n",
       "    u'address2': None,\n",
       "    u'address3': u'',\n",
       "    u'city': u'Los Angeles',\n",
       "    u'country': u'US',\n",
       "    u'display_address': [u'700 S Grand Ave', u'Los Angeles, CA 90017'],\n",
       "    u'state': u'CA',\n",
       "    u'zip_code': u'90017'},\n",
       "   u'name': u'Bottega Louie',\n",
       "   u'phone': u'+12138021470'}]}"
      ]
     },
     "execution_count": 5,
     "metadata": {},
     "output_type": "execute_result"
    }
   ],
   "source": [
    "params = {\n",
    "    'name': 'bottega-louie-los-angeles',\n",
    "    'address1': '700 S Grand Ave',\n",
    "    'city': 'Los Angeles',\n",
    "    'state': 'CA',\n",
    "    'country': 'US'\n",
    "}\n",
    "\n",
    "match_result = match_business(api_key, params)\n",
    "match_result"
   ]
  },
  {
   "cell_type": "markdown",
   "metadata": {},
   "source": [
    "### Get More Business Info\n",
    "\n",
    "Such as:\n",
    "* Opening Hours\n",
    "* Rating, Number of reviews\n",
    "* Categories\n",
    "* etc."
   ]
  },
  {
   "cell_type": "code",
   "execution_count": 13,
   "metadata": {},
   "outputs": [
    {
     "name": "stdout",
     "output_type": "stream",
     "text": [
      "Querying https://api.yelp.com/v3/businesses/TkFEKhsCixPWlShULKvMdQ ...\n",
      "{u'alias': u'bottega-louie-los-angeles',\n",
      " u'categories': [{u'alias': u'italian', u'title': u'Italian'},\n",
      "                 {u'alias': u'bakeries', u'title': u'Bakeries'},\n",
      "                 {u'alias': u'breakfast_brunch',\n",
      "                  u'title': u'Breakfast & Brunch'}],\n",
      " u'coordinates': {u'latitude': 34.0469300995766,\n",
      "                  u'longitude': -118.256601457672},\n",
      " u'display_phone': u'(213) 802-1470',\n",
      " u'hours': [{u'hours_type': u'REGULAR',\n",
      "             u'is_open_now': False,\n",
      "             u'open': [{u'day': 0,\n",
      "                        u'end': u'2200',\n",
      "                        u'is_overnight': False,\n",
      "                        u'start': u'0700'},\n",
      "                       {u'day': 1,\n",
      "                        u'end': u'2200',\n",
      "                        u'is_overnight': False,\n",
      "                        u'start': u'0700'},\n",
      "                       {u'day': 2,\n",
      "                        u'end': u'2200',\n",
      "                        u'is_overnight': False,\n",
      "                        u'start': u'0700'},\n",
      "                       {u'day': 3,\n",
      "                        u'end': u'2200',\n",
      "                        u'is_overnight': False,\n",
      "                        u'start': u'0700'},\n",
      "                       {u'day': 4,\n",
      "                        u'end': u'2300',\n",
      "                        u'is_overnight': False,\n",
      "                        u'start': u'0700'},\n",
      "                       {u'day': 5,\n",
      "                        u'end': u'2300',\n",
      "                        u'is_overnight': False,\n",
      "                        u'start': u'0800'},\n",
      "                       {u'day': 6,\n",
      "                        u'end': u'2200',\n",
      "                        u'is_overnight': False,\n",
      "                        u'start': u'0800'}]}],\n",
      " u'id': u'TkFEKhsCixPWlShULKvMdQ',\n",
      " u'image_url': u'https://s3-media1.fl.yelpcdn.com/bphoto/rAImnKvUNcNY8i6qEDWrZA/o.jpg',\n",
      " u'is_claimed': True,\n",
      " u'is_closed': False,\n",
      " u'location': {u'address1': u'700 S Grand Ave',\n",
      "               u'address2': None,\n",
      "               u'address3': u'',\n",
      "               u'city': u'Los Angeles',\n",
      "               u'country': u'US',\n",
      "               u'cross_streets': u'',\n",
      "               u'display_address': [u'700 S Grand Ave',\n",
      "                                    u'Los Angeles, CA 90017'],\n",
      "               u'state': u'CA',\n",
      "               u'zip_code': u'90017'},\n",
      " u'name': u'Bottega Louie',\n",
      " u'phone': u'+12138021470',\n",
      " u'photos': [u'https://s3-media1.fl.yelpcdn.com/bphoto/rAImnKvUNcNY8i6qEDWrZA/o.jpg',\n",
      "             u'https://s3-media3.fl.yelpcdn.com/bphoto/iweSUPVe4CaI4yRRYmBCsg/o.jpg',\n",
      "             u'https://s3-media1.fl.yelpcdn.com/bphoto/fHHbRyUWjBS2WelSzpqk1A/o.jpg'],\n",
      " u'price': u'$$',\n",
      " u'rating': 4.0,\n",
      " u'review_count': 15619,\n",
      " u'transactions': [],\n",
      " u'url': u'https://www.yelp.com/biz/bottega-louie-los-angeles?adjust_creative=h4tU1P3QBFnp_8aL3Z34gQ&utm_campaign=yelp_api_v3&utm_medium=api_v3_business_lookup&utm_source=h4tU1P3QBFnp_8aL3Z34gQ'}\n"
     ]
    }
   ],
   "source": [
    "for buz in match_result['businesses']:\n",
    "    buz_id = buz['id']\n",
    "    buz_info = get_business(api_key, buz_id)\n",
    "    pprint(buz_info)"
   ]
  },
  {
   "cell_type": "markdown",
   "metadata": {},
   "source": [
    "### Get Reviews\n",
    "\n",
    "At most 3 reviews per business."
   ]
  },
  {
   "cell_type": "code",
   "execution_count": 19,
   "metadata": {},
   "outputs": [
    {
     "name": "stdout",
     "output_type": "stream",
     "text": [
      "Querying https://api.yelp.com/v3/businesses/TkFEKhsCixPWlShULKvMdQ/reviews ...\n",
      "{u'id': u'Llxk35CfF2ht9Xw-GOWNFg',\n",
      " u'rating': 5,\n",
      " u'text': u'I was quite impressed with this restaurant, I was expecting it to be so expensive and we went during lunch and it was actually very affordable. I ordered...',\n",
      " u'time_created': u'2018-10-22 21:35:34',\n",
      " u'url': u'https://www.yelp.com/biz/bottega-louie-los-angeles?hrid=Llxk35CfF2ht9Xw-GOWNFg&adjust_creative=h4tU1P3QBFnp_8aL3Z34gQ&utm_campaign=yelp_api_v3&utm_medium=api_v3_business_reviews&utm_source=h4tU1P3QBFnp_8aL3Z34gQ',\n",
      " u'user': {u'id': u'g05jfdQIwe_ANt75NprQkw',\n",
      "           u'image_url': u'https://s3-media4.fl.yelpcdn.com/photo/dNVhUtWKaReeVXwhYIW9Iw/o.jpg',\n",
      "           u'name': u'Karine L.',\n",
      "           u'profile_url': u'https://www.yelp.com/user_details?userid=g05jfdQIwe_ANt75NprQkw'}}\n",
      "\n",
      "{u'id': u'1H6D3ZvWVszpgmeSTC9nPg',\n",
      " u'rating': 5,\n",
      " u'text': u'Love this restaurant for Date night , Girls Lunch\\nDrinks  \\nFood looks\\n& Taste  great .',\n",
      " u'time_created': u'2018-10-22 04:14:02',\n",
      " u'url': u'https://www.yelp.com/biz/bottega-louie-los-angeles?hrid=1H6D3ZvWVszpgmeSTC9nPg&adjust_creative=h4tU1P3QBFnp_8aL3Z34gQ&utm_campaign=yelp_api_v3&utm_medium=api_v3_business_reviews&utm_source=h4tU1P3QBFnp_8aL3Z34gQ',\n",
      " u'user': {u'id': u'HtpgH62NoM16AM2Rzy8FlA',\n",
      "           u'image_url': u'https://s3-media2.fl.yelpcdn.com/photo/Odhoa5tKjTPx-qYKxqwe0g/o.jpg',\n",
      "           u'name': u'Charity U.',\n",
      "           u'profile_url': u'https://www.yelp.com/user_details?userid=HtpgH62NoM16AM2Rzy8FlA'}}\n",
      "\n",
      "{u'id': u'iwChLSAVt1IEvB7OhuqTwg',\n",
      " u'rating': 5,\n",
      " u'text': u\"This is one of my favorite places and I'm surprised (at myself) for not reviewing it sooner! I have been here on multiple occasions including girls night...\",\n",
      " u'time_created': u'2018-10-19 10:09:16',\n",
      " u'url': u'https://www.yelp.com/biz/bottega-louie-los-angeles?hrid=iwChLSAVt1IEvB7OhuqTwg&adjust_creative=h4tU1P3QBFnp_8aL3Z34gQ&utm_campaign=yelp_api_v3&utm_medium=api_v3_business_reviews&utm_source=h4tU1P3QBFnp_8aL3Z34gQ',\n",
      " u'user': {u'id': u'mQmbl_GL5qU-cMzaIyZaiA',\n",
      "           u'image_url': u'https://s3-media1.fl.yelpcdn.com/photo/LCekkTQ0yHKpdZdRy22YKg/o.jpg',\n",
      "           u'name': u'Natalya D.',\n",
      "           u'profile_url': u'https://www.yelp.com/user_details?userid=mQmbl_GL5qU-cMzaIyZaiA'}}\n",
      "\n"
     ]
    }
   ],
   "source": [
    "for buz in match_result['businesses']:\n",
    "    buz_id = buz['id']\n",
    "    buz_reviews = get_business_reviews(api_key, buz_id)\n",
    "    reviews = buz_reviews['reviews']\n",
    "    for review in reviews:\n",
    "        pprint(review)\n",
    "        print"
   ]
  },
  {
   "cell_type": "markdown",
   "metadata": {},
   "source": [
    "## Search Business Through Query\n",
    "\n",
    "* In Yelp v3 API, you eed to use GraphQL to do some simple query, otherwise business search needs business id.\n",
    "\n",
    "* How to use Yelp Graphql: https://github.com/gfairchild/yelpapi/blob/master/yelpapi/yelpapi.py\n",
    "* Example Queries: https://github.com/gfairchild/yelpapi/blob/master/examples/examples.py"
   ]
  },
  {
   "cell_type": "code",
   "execution_count": 18,
   "metadata": {},
   "outputs": [
    {
     "data": {
      "text/plain": [
       "{u'businesses': [{u'alias': u'cafe-giverny-los-angeles',\n",
       "   u'categories': [{u'alias': u'desserts', u'title': u'Desserts'},\n",
       "    {u'alias': u'coffee', u'title': u'Coffee & Tea'},\n",
       "    {u'alias': u'sandwiches', u'title': u'Sandwiches'}],\n",
       "   u'coordinates': {u'latitude': 34.0695915222168,\n",
       "    u'longitude': -118.307540893555},\n",
       "   u'display_phone': u'(213) 637-0204',\n",
       "   u'distance': 1551.1451863805846,\n",
       "   u'id': u'K2xIhzZAGfK4seqfkjRfCA',\n",
       "   u'image_url': u'https://s3-media3.fl.yelpcdn.com/bphoto/M2nyIeE21PtnfwPpP23csA/o.jpg',\n",
       "   u'is_closed': False,\n",
       "   u'location': {u'address1': u'252 S Oxford Ave',\n",
       "    u'address2': u'',\n",
       "    u'address3': u'',\n",
       "    u'city': u'Los Angeles',\n",
       "    u'country': u'US',\n",
       "    u'display_address': [u'252 S Oxford Ave', u'Los Angeles, CA 90004'],\n",
       "    u'state': u'CA',\n",
       "    u'zip_code': u'90004'},\n",
       "   u'name': u'Cafe Giverny',\n",
       "   u'phone': u'+12136370204',\n",
       "   u'price': u'$$',\n",
       "   u'rating': 4.5,\n",
       "   u'review_count': 131,\n",
       "   u'transactions': [],\n",
       "   u'url': u'https://www.yelp.com/biz/cafe-giverny-los-angeles?adjust_creative=h4tU1P3QBFnp_8aL3Z34gQ&utm_campaign=yelp_api_v3&utm_medium=api_v3_business_search&utm_source=h4tU1P3QBFnp_8aL3Z34gQ'}],\n",
       " u'region': {u'center': {u'latitude': 34.0615895441259,\n",
       "   u'longitude': -118.32138061523438}},\n",
       " u'total': 4800}"
      ]
     },
     "execution_count": 18,
     "metadata": {},
     "output_type": "execute_result"
    }
   ],
   "source": [
    "from yelpapi import YelpAPI\n",
    "yelp_api = YelpAPI(api_key)\n",
    "search_results = yelp_api.search_query(term='high tea', location='los angelas', sort_by='rating', limit=1)\n",
    "search_results"
   ]
  }
 ],
 "metadata": {
  "kernelspec": {
   "display_name": "Python 2",
   "language": "python",
   "name": "python2"
  },
  "language_info": {
   "codemirror_mode": {
    "name": "ipython",
    "version": 2
   },
   "file_extension": ".py",
   "mimetype": "text/x-python",
   "name": "python",
   "nbconvert_exporter": "python",
   "pygments_lexer": "ipython2",
   "version": "2.7.6"
  }
 },
 "nbformat": 4,
 "nbformat_minor": 2
}
