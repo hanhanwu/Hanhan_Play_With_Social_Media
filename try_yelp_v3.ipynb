{
 "cells": [
  {
   "cell_type": "code",
   "execution_count": 15,
   "metadata": {},
   "outputs": [],
   "source": [
    "import requests\n",
    "from urllib import quote\n",
    "\n",
    "API_HOST = 'https://api.yelp.com'\n",
    "BUSINESS_PATH = '/v3/businesses/'\n",
    "BUSINESS_MATCH_PATH = '/v3/businesses/matches'"
   ]
  },
  {
   "cell_type": "code",
   "execution_count": 11,
   "metadata": {},
   "outputs": [],
   "source": [
    "api_key = '[You API Key]'"
   ]
  },
  {
   "cell_type": "code",
   "execution_count": 20,
   "metadata": {
    "collapsed": true
   },
   "outputs": [],
   "source": [
    "def request(host, path, api_key, url_params=None):\n",
    "    url_params = url_params or {}\n",
    "    url = '{0}{1}'.format(host, quote(path.encode('utf8')))\n",
    "    headers = {\n",
    "        'Authorization': 'Bearer %s' % api_key,\n",
    "    }\n",
    "\n",
    "    print(u'Querying {0} ...'.format(url))\n",
    "\n",
    "    response = requests.request('GET', url, headers=headers, params=url_params)\n",
    "\n",
    "    return response.json()\n",
    "\n",
    "def get_business(api_key, business_id):\n",
    "    \"\"\"\n",
    "    Get business info through business id\n",
    "    \"\"\"\n",
    "    business_path = BUSINESS_PATH + business_id\n",
    "\n",
    "    return request(API_HOST, business_path, api_key)\n",
    "\n",
    "def match_business(api_key, params):\n",
    "    \"\"\"\n",
    "    Get business info through business name\n",
    "    \"\"\"\n",
    "    business_path = BUSINESS_MATCH_PATH\n",
    "\n",
    "    return request(API_HOST, business_path, api_key, params)"
   ]
  },
  {
   "cell_type": "code",
   "execution_count": 22,
   "metadata": {},
   "outputs": [
    {
     "name": "stdout",
     "output_type": "stream",
     "text": [
      "Querying https://api.yelp.com/v3/businesses/matches ...\n"
     ]
    },
    {
     "data": {
      "text/plain": [
       "{u'businesses': [{u'alias': u'bottega-louie-los-angeles',\n",
       "   u'coordinates': {u'latitude': 34.0469300995766,\n",
       "    u'longitude': -118.256601457672},\n",
       "   u'display_phone': u'(213) 802-1470',\n",
       "   u'id': u'TkFEKhsCixPWlShULKvMdQ',\n",
       "   u'location': {u'address1': u'700 S Grand Ave',\n",
       "    u'address2': None,\n",
       "    u'address3': u'',\n",
       "    u'city': u'Los Angeles',\n",
       "    u'country': u'US',\n",
       "    u'display_address': [u'700 S Grand Ave', u'Los Angeles, CA 90017'],\n",
       "    u'state': u'CA',\n",
       "    u'zip_code': u'90017'},\n",
       "   u'name': u'Bottega Louie',\n",
       "   u'phone': u'+12138021470'}]}"
      ]
     },
     "execution_count": 22,
     "metadata": {},
     "output_type": "execute_result"
    }
   ],
   "source": [
    "params = {\n",
    "    'name': 'bottega-louie-los-angeles',\n",
    "    'address1': '700 S Grand Ave',\n",
    "    'city': 'Los Angeles',\n",
    "    'state': 'CA',\n",
    "    'country': 'US'\n",
    "}\n",
    "\n",
    "match_business(api_key, params)"
   ]
  },
  {
   "cell_type": "code",
   "execution_count": 23,
   "metadata": {},
   "outputs": [
    {
     "name": "stdout",
     "output_type": "stream",
     "text": [
      "Querying https://api.yelp.com/v3/businesses/TkFEKhsCixPWlShULKvMdQ ...\n"
     ]
    },
    {
     "data": {
      "text/plain": [
       "{u'alias': u'bottega-louie-los-angeles',\n",
       " u'categories': [{u'alias': u'italian', u'title': u'Italian'},\n",
       "  {u'alias': u'bakeries', u'title': u'Bakeries'},\n",
       "  {u'alias': u'breakfast_brunch', u'title': u'Breakfast & Brunch'}],\n",
       " u'coordinates': {u'latitude': 34.0469300995766,\n",
       "  u'longitude': -118.256601457672},\n",
       " u'display_phone': u'(213) 802-1470',\n",
       " u'hours': [{u'hours_type': u'REGULAR',\n",
       "   u'is_open_now': False,\n",
       "   u'open': [{u'day': 0,\n",
       "     u'end': u'2200',\n",
       "     u'is_overnight': False,\n",
       "     u'start': u'0700'},\n",
       "    {u'day': 1, u'end': u'2200', u'is_overnight': False, u'start': u'0700'},\n",
       "    {u'day': 2, u'end': u'2200', u'is_overnight': False, u'start': u'0700'},\n",
       "    {u'day': 3, u'end': u'2200', u'is_overnight': False, u'start': u'0700'},\n",
       "    {u'day': 4, u'end': u'2300', u'is_overnight': False, u'start': u'0700'},\n",
       "    {u'day': 5, u'end': u'2300', u'is_overnight': False, u'start': u'0800'},\n",
       "    {u'day': 6, u'end': u'2200', u'is_overnight': False, u'start': u'0800'}]}],\n",
       " u'id': u'TkFEKhsCixPWlShULKvMdQ',\n",
       " u'image_url': u'https://s3-media1.fl.yelpcdn.com/bphoto/rAImnKvUNcNY8i6qEDWrZA/o.jpg',\n",
       " u'is_claimed': True,\n",
       " u'is_closed': False,\n",
       " u'location': {u'address1': u'700 S Grand Ave',\n",
       "  u'address2': None,\n",
       "  u'address3': u'',\n",
       "  u'city': u'Los Angeles',\n",
       "  u'country': u'US',\n",
       "  u'cross_streets': u'',\n",
       "  u'display_address': [u'700 S Grand Ave', u'Los Angeles, CA 90017'],\n",
       "  u'state': u'CA',\n",
       "  u'zip_code': u'90017'},\n",
       " u'name': u'Bottega Louie',\n",
       " u'phone': u'+12138021470',\n",
       " u'photos': [u'https://s3-media1.fl.yelpcdn.com/bphoto/rAImnKvUNcNY8i6qEDWrZA/o.jpg',\n",
       "  u'https://s3-media3.fl.yelpcdn.com/bphoto/iweSUPVe4CaI4yRRYmBCsg/o.jpg',\n",
       "  u'https://s3-media1.fl.yelpcdn.com/bphoto/fHHbRyUWjBS2WelSzpqk1A/o.jpg'],\n",
       " u'price': u'$$',\n",
       " u'rating': 4.0,\n",
       " u'review_count': 15615,\n",
       " u'transactions': [],\n",
       " u'url': u'https://www.yelp.com/biz/bottega-louie-los-angeles?adjust_creative=h4tU1P3QBFnp_8aL3Z34gQ&utm_campaign=yelp_api_v3&utm_medium=api_v3_business_lookup&utm_source=h4tU1P3QBFnp_8aL3Z34gQ'}"
      ]
     },
     "execution_count": 23,
     "metadata": {},
     "output_type": "execute_result"
    }
   ],
   "source": [
    "get_business(api_key, 'TkFEKhsCixPWlShULKvMdQ')"
   ]
  }
 ],
 "metadata": {
  "kernelspec": {
   "display_name": "Python 2",
   "language": "python",
   "name": "python2"
  },
  "language_info": {
   "codemirror_mode": {
    "name": "ipython",
    "version": 2
   },
   "file_extension": ".py",
   "mimetype": "text/x-python",
   "name": "python",
   "nbconvert_exporter": "python",
   "pygments_lexer": "ipython2",
   "version": "2.7.13"
  }
 },
 "nbformat": 4,
 "nbformat_minor": 2
}
